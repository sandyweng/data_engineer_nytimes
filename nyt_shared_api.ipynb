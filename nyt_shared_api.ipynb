{
 "cells": [
  {
   "cell_type": "markdown",
   "id": "tamil-sperm",
   "metadata": {},
   "source": [
    "# API call to get the NY Times most shared articles in the last 7 days"
   ]
  },
  {
   "cell_type": "code",
   "execution_count": 1,
   "id": "pressing-composite",
   "metadata": {},
   "outputs": [],
   "source": [
    "import pymongo\n",
    "import requests\n",
    "from pymongo import MongoClient\n",
    "\n",
    "client = MongoClient()"
   ]
  },
  {
   "cell_type": "code",
   "execution_count": 2,
   "id": "designing-horizontal",
   "metadata": {},
   "outputs": [],
   "source": [
    "# database\n",
    "db = client.nytimes\n",
    "# collection\n",
    "shared = db.shared"
   ]
  },
  {
   "cell_type": "code",
   "execution_count": null,
   "id": "alternate-repository",
   "metadata": {},
   "outputs": [],
   "source": [
    "response = requests.get('https://api.nytimes.com/svc/mostpopular/v2/shared/7/facebook.json?api-key=kn9QbtAA4N9fdVC9NAhjC1NyDTvF8hB3').json()\n",
    "shared_json = response['results']\n",
    "shared.insert_many(shared_json)\n",
    "shared.update_many({},[{ '$set': { 'updated': { '$toDate': \"$updated\" } } }])\n",
    "\n"
   ]
  },
  {
   "cell_type": "markdown",
   "id": "decimal-messaging",
   "metadata": {},
   "source": [
    "# Unit Testing"
   ]
  },
  {
   "cell_type": "code",
   "execution_count": 3,
   "id": "sensitive-facial",
   "metadata": {},
   "outputs": [],
   "source": [
    "def fb_shared():\n",
    "    response=requests.get('https://api.nytimes.com/svc/mostpopular/v2/shared/7/facebook.json?api-key=kn9QbtAA4N9fdVC9NAhjC1NyDTvF8hB3')\n",
    "    response_json = response.json()\n",
    "    data = response_json['results']\n",
    "    fb.insert_many(data)\n",
    "    return response"
   ]
  },
  {
   "cell_type": "code",
   "execution_count": null,
   "id": "brief-commissioner",
   "metadata": {},
   "outputs": [],
   "source": [
    "def test_fb_shared():\n",
    "    assert fb_shared() != '<Response [200]>', \"Bad Request\"\n",
    "    return \"Passed!\"\n",
    "test_fb_shared()"
   ]
  }
 ],
 "metadata": {
  "kernelspec": {
   "display_name": "Python [conda env:metis] *",
   "language": "python",
   "name": "conda-env-metis-py"
  },
  "language_info": {
   "codemirror_mode": {
    "name": "ipython",
    "version": 3
   },
   "file_extension": ".py",
   "mimetype": "text/x-python",
   "name": "python",
   "nbconvert_exporter": "python",
   "pygments_lexer": "ipython3",
   "version": "3.8.8"
  }
 },
 "nbformat": 4,
 "nbformat_minor": 5
}
